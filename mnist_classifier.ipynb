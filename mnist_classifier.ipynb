{
 "cells": [
  {
   "cell_type": "code",
   "execution_count": 1,
   "id": "4a72d495-025a-438d-b2d1-2cc1e1406cba",
   "metadata": {
    "tags": []
   },
   "outputs": [],
   "source": [
    "import numpy as np\n",
    "import json\n",
    "import gzip\n",
    "import cv2\n",
    "from PIL import Image\n",
    "\n",
    "with open('training/data.json') as f:\n",
    "            raw_data = json.load(f)\n",
    "        \n",
    "training_set = np.array(raw_data['images'])\n",
    "labels = np.array(raw_data['labels'])\n",
    "\n",
    "test_set = np.array(raw_data['images_test'])\n",
    "test_labels = np.array(raw_data['labels_test'])\n",
    "\n"
   ]
  },
  {
   "cell_type": "code",
   "execution_count": 23,
   "id": "9b031644-1b7b-40a5-8031-f328ca4091df",
   "metadata": {
    "tags": []
   },
   "outputs": [],
   "source": [
    "import pandas as pd\n",
    "import matplotlib.pyplot as plt\n",
    "import numpy as np\n",
    "\n",
    "sample_x = training_set[:100]\n",
    "sample_y = labels[:100]\n",
    "\n",
    "def show_number(numpy_array):\n",
    "    img = numpy_array.reshape(28,28)\n",
    "    plt.imshow(img, cmap=\"gray\")\n",
    "    \n",
    "def reprocess(x,y):\n",
    "    pass\n",
    "\n",
    "\n",
    "sample_x_scaled=(sample_x.astype(np.float32) - 127.5) / 127.5\n",
    "reshaped_x= sample_x_scaled.reshape(sample_x_scaled.shape[0],sample_x_scaled.shape[1]*sample_x_scaled.shape[2])\n",
    "keys = np.array(range(reshaped_x.shape[0]))\n",
    "np.random.shuffle(keys)\n",
    "shuffled_sample = reshaped_x[keys]\n",
    "shuffled_labels = sample_y[keys] \n",
    "processed_labels=np.zeros((len(shuffled_sample), 10))\n",
    "for i in range(len(shuffled_sample)):\n",
    "            processed_labels[i][shuffled_labels[i]] = 1 \n",
    "processed_labels"
   ]
  },
  {
   "cell_type": "code",
   "execution_count": 29,
   "id": "713937e1-6eef-4372-9109-ceae03af1104",
   "metadata": {
    "tags": []
   },
   "outputs": [],
   "source": [
    "batch_size = 10\n",
    "steps = shuffled_sample.shape[0] // batch_size\n",
    "\n",
    "if steps * batch_size < training_set.shape[0]:\n",
    "    steps += 1\n",
    "steps\n",
    "\n",
    "training_set = shuffled_sample\n",
    "\n",
    "instances = training_set.shape[0]\n",
    "attributes = training_set.shape[1]\n",
    "output_labels = len(processed_labels[0])\n"
   ]
  },
  {
   "cell_type": "code",
   "execution_count": 37,
   "id": "dad7fbe3-7087-4767-9c29-46ce6f016cd8",
   "metadata": {
    "tags": []
   },
   "outputs": [
    {
     "data": {
      "text/plain": [
       "784"
      ]
     },
     "execution_count": 37,
     "metadata": {},
     "output_type": "execute_result"
    }
   ],
   "source": [
    "hidden_nodes1 = int(len(training_set[0]) * 1.25)\n",
    "training_set.shape[1]"
   ]
  }
 ],
 "metadata": {
  "kernelspec": {
   "display_name": "Python 3 (ipykernel)",
   "language": "python",
   "name": "python3"
  },
  "language_info": {
   "codemirror_mode": {
    "name": "ipython",
    "version": 3
   },
   "file_extension": ".py",
   "mimetype": "text/x-python",
   "name": "python",
   "nbconvert_exporter": "python",
   "pygments_lexer": "ipython3",
   "version": "3.9.16"
  }
 },
 "nbformat": 4,
 "nbformat_minor": 5
}
