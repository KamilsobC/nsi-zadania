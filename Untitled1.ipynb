{
 "cells": [
  {
   "cell_type": "code",
   "execution_count": 20,
   "id": "c097689f-2a75-43f5-a3d8-f323df919d27",
   "metadata": {
    "tags": []
   },
   "outputs": [],
   "source": [
    "import pickle\n",
    "from src.utils import *\n",
    "from src.Perceptron import Perceptron\n",
    "# perceptron =  load_pickle('saved_data/perc0.pickle')\n",
    "perceptron = Perceptron(\"0\")\n",
    "data = read_csv_to_pd('result.csv')\n",
    "data_for_number = prepare_data _for_perceptron(data,int(perceptron.name))\n",
    "x_train,x_test,y_train,y_test =  create_train_test_sets(data_for_number)\n",
    "\n",
    "# perceptron.train(x_train, y_train)   \n"
   ]
  },
  {
   "cell_type": "code",
   "execution_count": 22,
   "id": "4930987f-4834-46a5-826b-27de3405dcae",
   "metadata": {
    "tags": []
   },
   "outputs": [
    {
     "name": "stdout",
     "output_type": "stream",
     "text": [
      "2 14 0 0\n"
     ]
    }
   ],
   "source": [
    "tp, tn, fp, fn = 0, 0, 0, 0\n",
    "\n",
    "for sample, label in zip(x_test, y_test):\n",
    "\n",
    "    prediction = perceptron.predict(sample)\n",
    "\n",
    "    if prediction == label:\n",
    "        if prediction == 1:\n",
    "            tp += 1\n",
    "        else:\n",
    "            tn += 1\n",
    "    else:\n",
    "        if prediction == 1:\n",
    "            fp += 1\n",
    "        else:\n",
    "            fn += 1\n",
    "\n",
    "accuracy = (tp + tn)/(tp + tn + fp + fn)\n",
    "print(tp,tn,fp,fn)"
   ]
  },
  {
   "cell_type": "code",
   "execution_count": 26,
   "id": "cb6d0c8a-c734-486b-8b8f-b1ec648b580e",
   "metadata": {
    "tags": []
   },
   "outputs": [
    {
     "name": "stdout",
     "output_type": "stream",
     "text": [
      "0 0\n",
      "0 0\n",
      "0 0\n",
      "1 1\n",
      "0 0\n",
      "0 0\n",
      "0 0\n",
      "0 0\n",
      "0 0\n",
      "0 0\n",
      "1 1\n",
      "0 0\n",
      "0 0\n",
      "0 0\n",
      "0 0\n",
      "0 0\n"
     ]
    }
   ],
   "source": [
    "for sample,label in zip(x_test,y_test):\n",
    "    print(label,perceptron.predict(sample))\n",
    "    "
   ]
  },
  {
   "cell_type": "code",
   "execution_count": null,
   "id": "1cb46e25-df47-4e9d-a99e-c2b71a3bccb4",
   "metadata": {},
   "outputs": [],
   "source": [
    "save_pickle(perceptron,'test.pickle')\n",
    "\n"
   ]
  },
  {
   "cell_type": "code",
   "execution_count": 31,
   "id": "7e04f146-5163-454b-a74a-93ca4ad16096",
   "metadata": {
    "tags": []
   },
   "outputs": [
    {
     "name": "stdout",
     "output_type": "stream",
     "text": [
      "0 0\n",
      "0 0\n",
      "0 0\n",
      "1 1\n",
      "0 0\n",
      "0 0\n",
      "0 0\n",
      "0 0\n",
      "0 0\n",
      "0 0\n",
      "1 1\n",
      "0 0\n",
      "0 0\n",
      "0 0\n",
      "0 0\n",
      "0 0\n",
      "0 0\n",
      "0 0\n",
      "0 0\n",
      "0 0\n",
      "0 0\n",
      "1 1\n",
      "0 0\n",
      "0 0\n",
      "0 0\n",
      "0 0\n",
      "1 1\n",
      "0 0\n",
      "0 0\n",
      "0 0\n",
      "0 0\n",
      "0 0\n",
      "0 0\n",
      "0 0\n",
      "0 0\n",
      "0 0\n",
      "0 0\n",
      "0 0\n",
      "0 0\n",
      "0 0\n",
      "0 0\n",
      "0 0\n",
      "0 0\n",
      "0 0\n",
      "0 0\n",
      "0 0\n",
      "0 0\n",
      "0 0\n"
     ]
    }
   ],
   "source": [
    "per = load_pickle('test.pickle')\n",
    "for sample,label in zip(x_train,y_train):\n",
    "    print(label,per.predict(sample))\n",
    "    "
   ]
  }
 ],
 "metadata": {
  "kernelspec": {
   "display_name": "Python 3 (ipykernel)",
   "language": "python",
   "name": "python3"
  },
  "language_info": {
   "codemirror_mode": {
    "name": "ipython",
    "version": 3
   },
   "file_extension": ".py",
   "mimetype": "text/x-python",
   "name": "python",
   "nbconvert_exporter": "python",
   "pygments_lexer": "ipython3",
   "version": "3.9.16"
  }
 },
 "nbformat": 4,
 "nbformat_minor": 5
}
