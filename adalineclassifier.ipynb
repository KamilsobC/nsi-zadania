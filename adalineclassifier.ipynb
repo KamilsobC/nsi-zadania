{
 "cells": [
  {
   "cell_type": "code",
   "execution_count": 6,
   "id": "d81ed016-886a-4653-ae05-4b5c36a068a7",
   "metadata": {
    "tags": []
   },
   "outputs": [
    {
     "name": "stdout",
     "output_type": "stream",
     "text": [
      "good tn 0.15882274487354564 0\n",
      "good tn 0.22122913045827292 0\n",
      "good tn -0.05593852528875843 0\n",
      "good tn -0.03281594277428918 0\n",
      "good tn -0.1617032743237296 0\n",
      "good tn -0.08230548181317585 0\n",
      "good tn 0.005981555484506123 0\n",
      "good tn 0.08336648465943791 0\n",
      "good tn -0.005272071240330362 0\n",
      "good tn 0.22122913045827292 0\n",
      "good tp 0.8037502757112356 1\n",
      "good tn -0.02807057205985792 0\n",
      "good tp 0.8101627799171371 1\n",
      "good tn 0.09932005164211338 0\n",
      "good tn 0.09404825625651364 0\n",
      "good tp 0.8037502757112356 1\n",
      "1.0\n"
     ]
    }
   ],
   "source": [
    "from src.Adaline import Adaline\n",
    "from src.utils import *\n",
    "perceptron = Adaline(\"0\",epochs = 5000,log = False)\n",
    "create_csv_mnist_dataset()\n",
    "data = read_csv_to_pd('result.csv')\n",
    "desired_detections=[0,1,2,3,4,5,6,7,8,9]\n",
    "data_for_number = prepare_data_for_perceptron(data,0)\n",
    "x_train,x_test,y_train,y_test =  create_train_test_sets(data_for_number)\n",
    "weights, bias, errors = perceptron.train(x_train, y_train)\n",
    "cnt = 0\n",
    "for data,labels in zip(x_test,y_test):\n",
    "    test_data = list_to_numpy(data)\n",
    "    test_label = list_to_numpy(labels)\n",
    "    x = perceptron.predict(test_data)\n",
    "    if x>0.5 and test_label==1:\n",
    "        cnt+=1\n",
    "        print('good tp',x,test_label)\n",
    "    if x>0.5 and test_label==0:\n",
    "        print('bad tf',x,test_label)\n",
    "\n",
    "    if x<0.5 and test_label==0:\n",
    "        cnt+=1\n",
    "        print('good tn',x,test_label)\n",
    "    if x<0.5 and test_label==1:\n",
    "        print('bad fn',x,test_label)\n",
    "print(cnt/len(x_test))"
   ]
  },
  {
   "cell_type": "code",
   "execution_count": 12,
   "id": "1c170d73-eaf9-4b43-b378-7a058505dd9e",
   "metadata": {
    "tags": []
   },
   "outputs": [
    {
     "data": {
      "text/plain": [
       "-7.90031590481368e-06"
      ]
     },
     "execution_count": 12,
     "metadata": {},
     "output_type": "execute_result"
    }
   ],
   "source": [
    "perceptron.bias"
   ]
  },
  {
   "cell_type": "code",
   "execution_count": 11,
   "id": "9a1ad906-bd35-4044-95bb-22a09d0bbee9",
   "metadata": {},
   "outputs": [
    {
     "name": "stdout",
     "output_type": "stream",
     "text": [
      "good tn 0.15882274487354564 0\n",
      "good tn 0.22122913045827292 0\n",
      "good tn -0.05593852528875843 0\n",
      "good tn -0.03281594277428918 0\n",
      "good tn -0.1617032743237296 0\n",
      "good tn -0.08230548181317585 0\n",
      "good tn 0.005981555484506123 0\n",
      "good tn 0.08336648465943791 0\n",
      "good tn -0.005272071240330362 0\n",
      "good tn 0.22122913045827292 0\n",
      "good tp 0.8037502757112356 1\n",
      "good tn -0.02807057205985792 0\n",
      "good tp 0.8101627799171371 1\n",
      "good tn 0.09932005164211338 0\n",
      "good tn 0.09404825625651364 0\n",
      "good tp 0.8037502757112356 1\n",
      "good tn -0.021169320314519575 0\n",
      "good tn 0.06449249770609983 0\n",
      "good tn 0.08336648465943791 0\n",
      "good tn 0.027327863317526326 0\n",
      "good tn -0.014965639221947664 0\n",
      "good tn -0.022268384985457086 0\n",
      "good tn -0.1205668477032838 0\n",
      "good tn -0.03617532687335807 0\n",
      "good tn 0.03599374958465228 0\n",
      "good tp 1.0097515203880973 1\n",
      "good tn 0.03599374958465228 0\n",
      "good tn 0.056557520214711436 0\n",
      "good tn -0.13667028611570725 0\n",
      "good tn 0.03764183812508381 0\n",
      "good tn -0.2325178329900351 0\n",
      "good tn 0.015149370592111626 0\n",
      "good tn 0.005981555484506123 0\n",
      "good tn 0.1306914082632975 0\n",
      "good tn 0.17944697968667384 0\n",
      "good tp 0.8722475392557946 1\n",
      "good tn -0.012143512513806125 0\n",
      "good tn 0.06331546726084264 0\n",
      "good tn 0.0019365684112950191 0\n",
      "good tn -0.1139273222220275 0\n",
      "good tp 1.0718362797267544 1\n",
      "good tn 0.06402132774995224 0\n",
      "good tn 0.027327863317526326 0\n",
      "good tn 0.06671239769918086 0\n",
      "good tn -0.0711655521287542 0\n",
      "good tn 0.09777559232735089 0\n",
      "good tn -0.1567598246152827 0\n",
      "good tn 0.003535754749816316 0\n",
      "3.0\n"
     ]
    }
   ],
   "source": [
    "cnt = 0\n",
    "x_range = 0.25\n",
    "for data,labels in zip(x_train,y_train):\n",
    "    test_data = list_to_numpy(data)\n",
    "    test_label = list_to_numpy(labels)\n",
    "    x = perceptron.predict(test_data)\n",
    "    if x>x_range and test_label==1:\n",
    "        cnt+=1\n",
    "        print('good tp',x,test_label)\n",
    "    if x>x_range and test_label==0:\n",
    "        print('bad tf',x,test_label)\n",
    "\n",
    "    if x<x_range and test_label==0:\n",
    "        cnt+=1\n",
    "        print('good tn',x,test_label)\n",
    "    if x<x_range and test_label==1:\n",
    "        print('bad fn',x,test_label)\n",
    "print(cnt/len(x_test))"
   ]
  }
 ],
 "metadata": {
  "kernelspec": {
   "display_name": "Python 3 (ipykernel)",
   "language": "python",
   "name": "python3"
  },
  "language_info": {
   "codemirror_mode": {
    "name": "ipython",
    "version": 3
   },
   "file_extension": ".py",
   "mimetype": "text/x-python",
   "name": "python",
   "nbconvert_exporter": "python",
   "pygments_lexer": "ipython3",
   "version": "3.9.16"
  }
 },
 "nbformat": 4,
 "nbformat_minor": 5
}
