{
 "cells": [
  {
   "cell_type": "code",
   "execution_count": 2,
   "id": "d81ed016-886a-4653-ae05-4b5c36a068a7",
   "metadata": {
    "tags": []
   },
   "outputs": [],
   "source": [
    "import numpy as np\n",
    "\n",
    "\n",
    "class Adaline:\n",
    "\n",
    "    def __init__(self,lr=0.01,random_state=1,n_iter=50):\n",
    "        self.lr = lr\n",
    "        self.random_state = random_state\n",
    "        self.n_iter = n_iter\n",
    "    def net_input(self,X):\n",
    "        return np.dot(self.w[1:],X)+self.w[0]\n",
    "    \n",
    "    def activation(self,X):\n",
    "        return X\n",
    "    \n",
    "    def fit(self,X,y):\n",
    "        rgen = np.random.RandomState(self.random_state)\n",
    "        self.w = rgen.normal(loc=0.0, size = X.shape[1] +1 ,scale = 0.01)\n",
    "        self.cost = []\n",
    "        for i in range(self.n_iter):\n",
    "            inp = self.net_input(X)\n",
    "            output = self.activation(inp)\n",
    "            errors = y - output\n",
    "            self.w[1:] += self.lr * X.T.dot(errors)\n",
    "            self.w[0] += self.lr * errors.sum()\n",
    "            c = (errors ** 2).sum() / 2\n",
    "            self.cost.append(c)\n",
    "        return self\n",
    "    \n",
    "    def predict(self,X):\n",
    "        inp = self.input(X)\n",
    "        output = self.activation(inp)\n",
    "        return np.where(output> 0.0,1,-1)\n"
   ]
  },
  {
   "cell_type": "code",
   "execution_count": null,
   "id": "1c170d73-eaf9-4b43-b378-7a058505dd9e",
   "metadata": {
    "tags": []
   },
   "outputs": [],
   "source": []
  },
  {
   "cell_type": "code",
   "execution_count": null,
   "id": "9a1ad906-bd35-4044-95bb-22a09d0bbee9",
   "metadata": {},
   "outputs": [],
   "source": []
  }
 ],
 "metadata": {
  "kernelspec": {
   "display_name": "Python 3 (ipykernel)",
   "language": "python",
   "name": "python3"
  },
  "language_info": {
   "codemirror_mode": {
    "name": "ipython",
    "version": 3
   },
   "file_extension": ".py",
   "mimetype": "text/x-python",
   "name": "python",
   "nbconvert_exporter": "python",
   "pygments_lexer": "ipython3",
   "version": "3.9.16"
  }
 },
 "nbformat": 4,
 "nbformat_minor": 5
}
